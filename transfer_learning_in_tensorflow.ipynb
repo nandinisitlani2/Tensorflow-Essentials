{
  "nbformat": 4,
  "nbformat_minor": 0,
  "metadata": {
    "colab": {
      "provenance": [],
      "authorship_tag": "ABX9TyO1xzjEY8OsM7TfAxpOnRfv",
      "include_colab_link": true
    },
    "kernelspec": {
      "name": "python3",
      "display_name": "Python 3"
    },
    "language_info": {
      "name": "python"
    },
    "accelerator": "GPU",
    "gpuClass": "standard"
  },
  "cells": [
    {
      "cell_type": "markdown",
      "metadata": {
        "id": "view-in-github",
        "colab_type": "text"
      },
      "source": [
        "<a href=\"https://colab.research.google.com/github/nandinisitlani2/Tensorflow-Essentials/blob/main/transfer_learning_in_tensorflow.ipynb\" target=\"_parent\"><img src=\"https://colab.research.google.com/assets/colab-badge.svg\" alt=\"Open In Colab\"/></a>"
      ]
    },
    {
      "cell_type": "code",
      "execution_count": null,
      "metadata": {
        "colab": {
          "base_uri": "https://localhost:8080/"
        },
        "id": "sH5TbYAxGxBY",
        "outputId": "70d3d025-fab9-47fa-d41d-22698ecf1883"
      },
      "outputs": [
        {
          "output_type": "stream",
          "name": "stdout",
          "text": [
            "--2023-04-27 22:43:31--  https://storage.googleapis.com/ztm_tf_course/food_vision/10_food_classes_10_percent.zip\n",
            "Resolving storage.googleapis.com (storage.googleapis.com)... 173.194.192.128, 209.85.145.128, 209.85.146.128, ...\n",
            "Connecting to storage.googleapis.com (storage.googleapis.com)|173.194.192.128|:443... connected.\n",
            "HTTP request sent, awaiting response... 200 OK\n",
            "Length: 168546183 (161M) [application/zip]\n",
            "Saving to: ‘10_food_classes_10_percent.zip’\n",
            "\n",
            "10_food_classes_10_ 100%[===================>] 160.74M   187MB/s    in 0.9s    \n",
            "\n",
            "2023-04-27 22:43:32 (187 MB/s) - ‘10_food_classes_10_percent.zip’ saved [168546183/168546183]\n",
            "\n"
          ]
        }
      ],
      "source": [
        "!wget https://storage.googleapis.com/ztm_tf_course/food_vision/10_food_classes_10_percent.zip\n",
        "import zipfile\n",
        "zipref=zipfile.ZipFile(\"10_food_classes_10_percent.zip\")\n",
        "zipref.extractall()\n",
        "zipref.close()"
      ]
    },
    {
      "cell_type": "code",
      "source": [
        "ls 10_food_classes_10_percent/test"
      ],
      "metadata": {
        "colab": {
          "base_uri": "https://localhost:8080/"
        },
        "id": "CyM8sFzaJZ8O",
        "outputId": "e96e024b-8cf9-4514-f20a-b4f2a3b2cda3"
      },
      "execution_count": null,
      "outputs": [
        {
          "output_type": "stream",
          "name": "stdout",
          "text": [
            "\u001b[0m\u001b[01;34mchicken_curry\u001b[0m/  \u001b[01;34mfried_rice\u001b[0m/      \u001b[01;34mhamburger\u001b[0m/  \u001b[01;34mpizza\u001b[0m/  \u001b[01;34msteak\u001b[0m/\n",
            "\u001b[01;34mchicken_wings\u001b[0m/  \u001b[01;34mgrilled_salmon\u001b[0m/  \u001b[01;34mice_cream\u001b[0m/  \u001b[01;34mramen\u001b[0m/  \u001b[01;34msushi\u001b[0m/\n"
          ]
        }
      ]
    },
    {
      "cell_type": "code",
      "source": [
        "from tensorflow.keras.preprocessing.image import ImageDataGenerator\n",
        "IMAGE_SHAPE=(224,224)\n",
        "BATCH_SIZE=32\n",
        "Train_dir=\"10_food_classes_10_percent/train\"\n",
        "Test_dir=\"10_food_classes_10_percent/test\"\n",
        "train_datagen=ImageDataGenerator(rescale=1/225.)\n",
        "test_datagen=ImageDataGenerator(rescale=1/225.)\n",
        "\n",
        "train_data_10_percent=train_datagen.flow_from_directory(Train_dir,\n",
        "                                                 target_size=IMAGE_SHAPE,\n",
        "                                                 batch_size=BATCH_SIZE,\n",
        "                                                 class_mode=\"categorical\")\n",
        "\n",
        "test_data_=test_datagen.flow_from_directory(Test_dir,\n",
        "                                                 target_size=IMAGE_SHAPE,\n",
        "                                                 batch_size=BATCH_SIZE,\n",
        "                                                 class_mode=\"categorical\")"
      ],
      "metadata": {
        "colab": {
          "base_uri": "https://localhost:8080/"
        },
        "id": "X8oZtgRvJbRS",
        "outputId": "4b4b41fe-2d73-423f-f5f4-648ada68be34"
      },
      "execution_count": null,
      "outputs": [
        {
          "output_type": "stream",
          "name": "stdout",
          "text": [
            "Found 750 images belonging to 10 classes.\n",
            "Found 2500 images belonging to 10 classes.\n"
          ]
        }
      ]
    },
    {
      "cell_type": "markdown",
      "source": [
        "## setting up callbacks\n"
      ],
      "metadata": {
        "id": "ENX8pM-JKwRr"
      }
    },
    {
      "cell_type": "code",
      "source": [
        "import tensorflow as tf\n",
        "import datetime\n",
        "def create_tensorboard_callback(dir_name,experiment_name):\n",
        "  log_dir=dir_name + \"/\" + experiment_name +\"/\" + datetime.datetime.now().strftime(\"%Y%m%d-%H%M%S\")\n",
        "  tesorboard_callback=tf.keras.callbacks.TensorBoard(log_dir=log_dir)\n",
        "  return tesorboard_callback\n"
      ],
      "metadata": {
        "id": "8y3OIb52LHHA"
      },
      "execution_count": null,
      "outputs": []
    },
    {
      "cell_type": "markdown",
      "source": [
        "## Model using Tensdorflow Hub"
      ],
      "metadata": {
        "id": "QGmPknY_NA9z"
      }
    },
    {
      "cell_type": "code",
      "source": [
        "resnet_url=\"https://tfhub.dev/google/imagenet/resnet_v2_50/feature_vector/5\"\n",
        "efficient_net_url=\"https://tfhub.dev/google/efficientnet/b2/feature-vector/1\"\n"
      ],
      "metadata": {
        "id": "Y12OoVidNbcQ"
      },
      "execution_count": null,
      "outputs": []
    },
    {
      "cell_type": "code",
      "source": [
        "import tensorflow as tf\n",
        "import tensorflow_hub as hub\n",
        "from tensorflow.keras import layers"
      ],
      "metadata": {
        "id": "4mTCGMmSQQva"
      },
      "execution_count": null,
      "outputs": []
    },
    {
      "cell_type": "code",
      "source": [
        "def create_model(model_url,num_class=10):\n",
        "  feature_extracter_layer=hub.KerasLayer(model_url,\n",
        "                                    trainable=False,\n",
        "                                    name=\"feature_extraction_layer\",\n",
        "                                    input_shape=IMAGE_SHAPE+(3,))\n",
        "  \n",
        "  model=tf.keras.Sequential([\n",
        "      feature_extracter_layer,\n",
        "      tf.keras.layers.Dense(10,activation=\"softmax\")\n",
        "\n",
        "\n",
        "  ])\n",
        "  return model"
      ],
      "metadata": {
        "id": "0abhLpy6QjnC"
      },
      "execution_count": null,
      "outputs": []
    },
    {
      "cell_type": "code",
      "source": [
        "resnet_model=create_model(resnet_url)"
      ],
      "metadata": {
        "id": "0u3LiRiSRuvY"
      },
      "execution_count": null,
      "outputs": []
    },
    {
      "cell_type": "code",
      "source": [
        "resnet_model.summary()"
      ],
      "metadata": {
        "colab": {
          "base_uri": "https://localhost:8080/"
        },
        "id": "DI4uWr_2R8Up",
        "outputId": "607af0d6-a21d-432a-bc0f-d0c52bc86f52"
      },
      "execution_count": null,
      "outputs": [
        {
          "output_type": "stream",
          "name": "stdout",
          "text": [
            "Model: \"sequential\"\n",
            "_________________________________________________________________\n",
            " Layer (type)                Output Shape              Param #   \n",
            "=================================================================\n",
            " feature_extraction_layer (K  (None, 2048)             23564800  \n",
            " erasLayer)                                                      \n",
            "                                                                 \n",
            " dense (Dense)               (None, 10)                20490     \n",
            "                                                                 \n",
            "=================================================================\n",
            "Total params: 23,585,290\n",
            "Trainable params: 20,490\n",
            "Non-trainable params: 23,564,800\n",
            "_________________________________________________________________\n"
          ]
        }
      ]
    },
    {
      "cell_type": "code",
      "source": [
        "\n",
        "resnet_model.compile(loss=\"categorical_crossentropy\",\n",
        "                    optimizer=\"adam\",\n",
        "                    metrics=[\"accuracy\"])"
      ],
      "metadata": {
        "id": "Tgh0tRh4SPHR"
      },
      "execution_count": null,
      "outputs": []
    },
    {
      "cell_type": "code",
      "source": [
        "resnet_history=resnet_model.fit(train_data_10_percent,\n",
        "                                epochs=5,\n",
        "                                steps_per_epoch=len(train_data_10_percent),\n",
        "                                validation_data=test_data_,\n",
        "                                validation_steps=len(test_data_),\n",
        "                                callbacks=[create_tensorboard_callback(dir_name=\"tensorflow_hub\",\n",
        "                                                                       experiment_name=\"resnet\")]\n",
        "\n",
        "                 )"
      ],
      "metadata": {
        "colab": {
          "base_uri": "https://localhost:8080/"
        },
        "id": "8dFlhGwWShgO",
        "outputId": "67ed2c77-fd14-42ae-9bc1-65e9577e8fd7"
      },
      "execution_count": null,
      "outputs": [
        {
          "output_type": "stream",
          "name": "stdout",
          "text": [
            "Epoch 1/5\n",
            "24/24 [==============================] - 26s 856ms/step - loss: 1.9129 - accuracy: 0.3667 - val_loss: 1.1680 - val_accuracy: 0.6440\n",
            "Epoch 2/5\n",
            "24/24 [==============================] - 19s 819ms/step - loss: 0.9045 - accuracy: 0.7147 - val_loss: 0.8401 - val_accuracy: 0.7340\n",
            "Epoch 3/5\n",
            "24/24 [==============================] - 18s 792ms/step - loss: 0.6146 - accuracy: 0.8373 - val_loss: 0.7633 - val_accuracy: 0.7568\n",
            "Epoch 4/5\n",
            "24/24 [==============================] - 19s 801ms/step - loss: 0.4737 - accuracy: 0.8853 - val_loss: 0.7091 - val_accuracy: 0.7720\n",
            "Epoch 5/5\n",
            "24/24 [==============================] - 18s 768ms/step - loss: 0.3830 - accuracy: 0.9187 - val_loss: 0.6746 - val_accuracy: 0.7864\n"
          ]
        }
      ]
    },
    {
      "cell_type": "code",
      "source": [
        "import matplotlib.pyplot as plt\n",
        "plt.plot(resnet_history.history[\"loss\"])\n",
        "plt.plot(resnet_history.history[\"val_loss\"])"
      ],
      "metadata": {
        "colab": {
          "base_uri": "https://localhost:8080/",
          "height": 448
        },
        "id": "Lx9TgeCmUIXW",
        "outputId": "a68ab989-a0cc-43d4-bf1a-a136226c9e90"
      },
      "execution_count": null,
      "outputs": [
        {
          "output_type": "execute_result",
          "data": {
            "text/plain": [
              "[<matplotlib.lines.Line2D at 0x7f654ef3aa40>]"
            ]
          },
          "metadata": {},
          "execution_count": 28
        },
        {
          "output_type": "display_data",
          "data": {
            "text/plain": [
              "<Figure size 640x480 with 1 Axes>"
            ],
            "image/png": "[encoded data removed]"
          },
          "metadata": {}
        }
      ]
    },
    {
      "cell_type": "code",
      "source": [
        "eff_model=create_model(model_url=efficient_net_url)"
      ],
      "metadata": {
        "id": "RUCMHe1ZU1iZ"
      },
      "execution_count": null,
      "outputs": []
    },
    {
      "cell_type": "code",
      "source": [
        "eff_model.compile(loss=\"categorical_crossentropy\",\n",
        "                  optimizer=\"adam\",\n",
        "                  metrics=[\"accuracy\"])"
      ],
      "metadata": {
        "id": "RpM6XbzH43pY"
      },
      "execution_count": null,
      "outputs": []
    },
    {
      "cell_type": "code",
      "source": [
        "eff_history=eff_model.fit(train_data_10_percent,\n",
        "                                epochs=5,\n",
        "                                steps_per_epoch=len(train_data_10_percent),\n",
        "                                validation_data=test_data_,\n",
        "                                validation_steps=len(test_data_),\n",
        "                                callbacks=[create_tensorboard_callback(dir_name=\"tensorflow_hub\",\n",
        "                                                                       experiment_name=\"effnet\")]\n",
        "\n",
        "                 )"
      ],
      "metadata": {
        "colab": {
          "base_uri": "https://localhost:8080/"
        },
        "id": "o6_JQzMG5CYY",
        "outputId": "23ac80ba-8352-4907-da7c-cb966b093839"
      },
      "execution_count": null,
      "outputs": [
        {
          "output_type": "stream",
          "name": "stdout",
          "text": [
            "Epoch 1/5\n",
            "24/24 [==============================] - 36s 914ms/step - loss: 1.8059 - accuracy: 0.4587 - val_loss: 1.2641 - val_accuracy: 0.7308\n",
            "Epoch 2/5\n",
            "24/24 [==============================] - 19s 826ms/step - loss: 1.0362 - accuracy: 0.7653 - val_loss: 0.8423 - val_accuracy: 0.8136\n",
            "Epoch 3/5\n",
            "24/24 [==============================] - 18s 779ms/step - loss: 0.7391 - accuracy: 0.8400 - val_loss: 0.6812 - val_accuracy: 0.8380\n",
            "Epoch 4/5\n",
            "24/24 [==============================] - 18s 791ms/step - loss: 0.5921 - accuracy: 0.8707 - val_loss: 0.6019 - val_accuracy: 0.8444\n",
            "Epoch 5/5\n",
            "24/24 [==============================] - 25s 1s/step - loss: 0.5033 - accuracy: 0.8880 - val_loss: 0.5515 - val_accuracy: 0.8540\n"
          ]
        }
      ]
    },
    {
      "cell_type": "code",
      "source": [
        "import matplotlib.pyplot as plt\n",
        "plt.plot(eff_history.history[\"loss\"])\n",
        "plt.plot(eff_history.history[\"val_loss\"])\n",
        "\n",
        "plt.figure()\n",
        "plt.plot(eff_history.history[\"accuracy\"])\n",
        "plt.plot(eff_history.history[\"val_accuracy\"])"
      ],
      "metadata": {
        "colab": {
          "base_uri": "https://localhost:8080/",
          "height": 861
        },
        "id": "78iOaX1n5KQH",
        "outputId": "224b9328-dd23-4a4e-aaff-17f99591b244"
      },
      "execution_count": null,
      "outputs": [
        {
          "output_type": "execute_result",
          "data": {
            "text/plain": [
              "[<matplotlib.lines.Line2D at 0x7f1ffe702f50>]"
            ]
          },
          "metadata": {},
          "execution_count": 13
        },
        {
          "output_type": "display_data",
          "data": {
            "text/plain": [
              "<Figure size 640x480 with 1 Axes>"
            ],
            "image/png": "[encoded data removed]"
          },
          "metadata": {}
        },
        {
          "output_type": "display_data",
          "data": {
            "text/plain": [
              "<Figure size 640x480 with 1 Axes>"
            ],
            "image/png": "[encoded data removed]"
          },
          "metadata": {}
        }
      ]
    },
    {
      "cell_type": "code",
      "source": [
        "eff_model.summary()"
      ],
      "metadata": {
        "colab": {
          "base_uri": "https://localhost:8080/"
        },
        "id": "fVKGxsOX54p7",
        "outputId": "8060de12-355e-4deb-939a-95373150a2a7"
      },
      "execution_count": null,
      "outputs": [
        {
          "output_type": "stream",
          "name": "stdout",
          "text": [
            "Model: \"sequential\"\n",
            "_________________________________________________________________\n",
            " Layer (type)                Output Shape              Param #   \n",
            "=================================================================\n",
            " feature_extraction_layer (K  (None, 1408)             7768562   \n",
            " erasLayer)                                                      \n",
            "                                                                 \n",
            " dense (Dense)               (None, 10)                14090     \n",
            "                                                                 \n",
            "=================================================================\n",
            "Total params: 7,782,652\n",
            "Trainable params: 14,090\n",
            "Non-trainable params: 7,768,562\n",
            "_________________________________________________________________\n"
          ]
        }
      ]
    },
    {
      "cell_type": "markdown",
      "source": [
        "## Comparing results on tensorBoard"
      ],
      "metadata": {
        "id": "VriD78WE6ODj"
      }
    },
    {
      "cell_type": "code",
      "source": [
        "!tensorboard dev upload --logdir ./tensorflow_hub/ \\\n",
        "--name \"effnet vs resnet\"\n",
        "--one_shot"
      ],
      "metadata": {
        "colab": {
          "base_uri": "https://localhost:8080/",
          "height": 760
        },
        "id": "MISNyL6V8gvE",
        "outputId": "e77958e9-7d53-488a-ff07-6b877f0f11ef"
      },
      "execution_count": null,
      "outputs": [
        {
          "output_type": "stream",
          "name": "stdout",
          "text": [
            "2023-04-27 23:07:53.437744: W tensorflow/compiler/tf2tensorrt/utils/py_utils.cc:38] TF-TRT Warning: Could not find TensorRT\n",
            "Upload started and will continue reading any new data as it's added to the logdir.\n",
            "\n",
            "To stop uploading, press Ctrl-C.\n",
            "\n",
            "New experiment created. View your TensorBoard at: https://tensorboard.dev/experiment/qMdCDwiKRjOdwQx58TmBrQ/\n",
            "\n",
            "\u001b[1m[2023-04-27T23:07:55]\u001b[0m Started scanning logdir.\n",
            "\u001b[1m[2023-04-27T23:07:57]\u001b[0m Total uploaded: 60 scalars, 0 tensors, 2 binary objects (3.6 MB)\n",
            "\n",
            "\n",
            "Interrupted. View your TensorBoard at https://tensorboard.dev/experiment/qMdCDwiKRjOdwQx58TmBrQ/\n",
            "Traceback (most recent call last):\n",
            "  File \"/usr/local/bin/tensorboard\", line 8, in <module>\n",
            "    sys.exit(run_main())\n",
            "  File \"/usr/local/lib/python3.10/dist-packages/tensorboard/main.py\", line 46, in run_main\n",
            "    app.run(tensorboard.main, flags_parser=tensorboard.configure)\n",
            "  File \"/usr/local/lib/python3.10/dist-packages/absl/app.py\", line 308, in run\n",
            "    _run_main(main, args)\n",
            "  File \"/usr/local/lib/python3.10/dist-packages/absl/app.py\", line 254, in _run_main\n",
            "    sys.exit(main(argv))\n",
            "  File \"/usr/local/lib/python3.10/dist-packages/tensorboard/program.py\", line 276, in main\n",
            "    return runner(self.flags) or 0\n",
            "  File \"/usr/local/lib/python3.10/dist-packages/tensorboard/uploader/uploader_subcommand.py\", line 691, in run\n",
            "    return _run(flags, self._experiment_url_callback)\n",
            "  File \"/usr/local/lib/python3.10/dist-packages/tensorboard/uploader/uploader_subcommand.py\", line 124, in _run\n",
            "    intent.execute(server_info, channel)\n",
            "  File \"/usr/local/lib/python3.10/dist-packages/tensorboard/uploader/uploader_subcommand.py\", line 507, in execute\n",
            "    sys.stdout.write(end_message + \"\\n\")\n",
            "KeyboardInterrupt\n",
            "^C\n"
          ]
        },
        {
          "output_type": "error",
          "ename": "NameError",
          "evalue": "ignored",
          "traceback": [
            "\u001b[0;31m---------------------------------------------------------------------------\u001b[0m",
            "\u001b[0;31mNameError\u001b[0m                                 Traceback (most recent call last)",
            "\u001b[0;32m<ipython-input-19-e5c3a6c8b3e8>\u001b[0m in \u001b[0;36m<cell line: 2>\u001b[0;34m()\u001b[0m\n\u001b[1;32m      1\u001b[0m \u001b[0mget_ipython\u001b[0m\u001b[0;34m(\u001b[0m\u001b[0;34m)\u001b[0m\u001b[0;34m.\u001b[0m\u001b[0msystem\u001b[0m\u001b[0;34m(\u001b[0m\u001b[0;34m'tensorboard dev upload --logdir ./tensorflow_hub/  --name \"effnet vs resnet\"'\u001b[0m\u001b[0;34m)\u001b[0m\u001b[0;34m\u001b[0m\u001b[0;34m\u001b[0m\u001b[0m\n\u001b[0;32m----> 2\u001b[0;31m \u001b[0;34m-\u001b[0m\u001b[0;34m-\u001b[0m\u001b[0mone_shot\u001b[0m\u001b[0;34m\u001b[0m\u001b[0;34m\u001b[0m\u001b[0m\n\u001b[0m",
            "\u001b[0;31mNameError\u001b[0m: name 'one_shot' is not defined"
          ]
        }
      ]
    },
    {
      "cell_type": "code",
      "source": [
        "! tensorboard dev list"
      ],
      "metadata": {
        "colab": {
          "base_uri": "https://localhost:8080/"
        },
        "id": "5Ccot-9N9Ki7",
        "outputId": "602ade70-ef1b-48d3-a1b2-7ba6e96123a2"
      },
      "execution_count": null,
      "outputs": [
        {
          "output_type": "stream",
          "name": "stdout",
          "text": [
            "2023-04-27 23:19:46.557361: W tensorflow/compiler/tf2tensorrt/utils/py_utils.cc:38] TF-TRT Warning: Could not find TensorRT\n",
            "https://tensorboard.dev/experiment/qMdCDwiKRjOdwQx58TmBrQ/\n",
            "\tName                 effnet vs resnet\n",
            "\tDescription          [No Description]\n",
            "\tId                   qMdCDwiKRjOdwQx58TmBrQ\n",
            "\tCreated              2023-04-27 23:07:55 (11 minutes ago)\n",
            "\tUpdated              2023-04-27 23:07:57 (11 minutes ago)\n",
            "\tRuns                 4\n",
            "\tTags                 5\n",
            "\tScalars              60\n",
            "\tTensor bytes         0\n",
            "\tBinary object bytes  3737185\n",
            "https://tensorboard.dev/experiment/Z72Bg2aCRQmxmfvQ2bzRgw/\n",
            "\tName                 effnet vs resnet\n",
            "\tDescription          [No Description]\n",
            "\tId                   Z72Bg2aCRQmxmfvQ2bzRgw\n",
            "\tCreated              2023-04-27 23:04:11 (15 minutes ago)\n",
            "\tUpdated              2023-04-27 23:04:13 (15 minutes ago)\n",
            "\tRuns                 4\n",
            "\tTags                 5\n",
            "\tScalars              60\n",
            "\tTensor bytes         0\n",
            "\tBinary object bytes  3737185\n",
            "Total: 2 experiment(s)\n"
          ]
        }
      ]
    }
  ]
}